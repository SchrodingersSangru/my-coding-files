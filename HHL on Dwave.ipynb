{
 "cells": [
  {
   "cell_type": "code",
   "execution_count": 19,
   "metadata": {},
   "outputs": [
    {
     "name": "stdout",
     "output_type": "stream",
     "text": [
      "    q11   q12   q13   q14   q21   q22   q23   q24  energy num_oc. chain_.\n",
      "0      0     1     1     1     0     1     0     0  -26.0      42     0.0\n",
      "1      0     0     1     0     1     1     1     0  -26.0      50     0.0\n",
      "2      0     0     1     0     0     1     0     0  -26.0      60     0.0\n",
      "3      1     0     0     1     0     1     0     0  -26.0      23     0.0\n",
      "4      1     0     0     1     1     1     1     0  -26.0      25     0.0\n",
      "5      0     1     1     1     1     1     1     0  -26.0      28     0.0\n",
      "6      1     0     0     1     1     0     0     0  -21.0       7     0.0\n",
      "7      0     1     1     1     1     0     0     0  -21.0      17     0.0\n",
      "8      0     0     1     0     1     0     0     0  -21.0      22     0.0\n",
      "9      0     1     1     1     1     1     0     1  -21.0       4     0.0\n",
      "10     1     0     0     1     0     1     1     0  -21.0       4     0.0\n",
      "11     0     1     1     1     1     1     0     0  -21.0      10     0.0\n",
      "12     1     0     0     1     1     1     0     1  -21.0       6     0.0\n",
      "13     0     0     1     0     1     1     0     1  -21.0      14     0.0\n",
      "14     0     0     1     0     1     1     0     0  -21.0      15     0.0\n",
      "15     1     0     0     1     1     1     0     0  -21.0      11     0.0\n",
      "16     0     1     1     1     0     1     1     0  -21.0      12     0.0\n",
      "17     0     0     1     0     0     1     1     0  -21.0      17     0.0\n",
      "18     0     1     0     1     0     1     0     0  -16.0       8     0.0\n",
      "19     1     0     1     1     0     1     0     0  -16.0       3     0.0\n",
      "20     0     0     0     0     1     1     1     0  -16.0      15     0.0\n",
      "21     1     0     1     0     1     1     1     0  -16.0       3     0.0\n",
      "22     0     0     0     1     1     1     1     0  -16.0       5     0.0\n",
      "23     0     1     0     1     1     1     1     0  -16.0       7     0.0\n",
      "24     1     0     1     0     0     1     0     0  -16.0       3     0.0\n",
      "25     1     1     1     1     0     1     0     0  -16.0       2     0.0\n",
      "26     0     0     0     1     0     1     0     0  -16.0       5     0.0\n",
      "27     0     0     0     0     0     1     0     0  -16.0       8     0.0\n",
      "28     1     0     1     1     1     1     1     0  -16.0       5     0.0\n",
      "29     1     1     1     1     1     1     1     0  -16.0       4     0.0\n",
      "59     1     0     1     0     0     1     0     0  -16.0       1   0.125\n",
      "30     0     1     0     1     1     1     0     1  -13.0       2     0.0\n",
      "31     1     0     1     1     1     1     0     0  -13.0       1     0.0\n",
      "32     0     0     0     0     1     1     0     1  -13.0       4     0.0\n",
      "33     0     1     0     1     0     1     1     0  -13.0       4     0.0\n",
      "34     1     0     1     0     1     1     0     1  -13.0       1     0.0\n",
      "35     0     1     0     1     1     0     0     0  -13.0       5     0.0\n",
      "36     0     0     0     1     1     1     0     0  -13.0       8     0.0\n",
      "37     0     0     0     0     1     0     0     0  -13.0       1     0.0\n",
      "38     1     0     1     0     1     0     0     0  -13.0       2     0.0\n",
      "39     1     1     1     1     0     1     1     0  -13.0       2     0.0\n",
      "40     1     1     1     1     1     0     0     0  -13.0       3     0.0\n",
      "41     0     0     0     0     0     1     1     0  -13.0       6     0.0\n",
      "42     0     0     0     1     1     0     0     0   -9.0       1     0.0\n",
      "43     0     1     0     1     1     1     0     0   -9.0       3     0.0\n",
      "44     0     0     0     1     1     1     0     1   -9.0       1     0.0\n",
      "45     0     0     0     1     0     1     1     0   -9.0       3     0.0\n",
      "46     0     0     0     0     1     1     0     0   -9.0       1     0.0\n",
      "47     1     0     1     1     1     0     0     0   -9.0       1     0.0\n",
      "55     0     0     0     1     1     0     0     0   -9.0       1   0.125\n",
      "48     0     1     1     1     0     0     0     0   -6.0       3     0.0\n",
      "49     0     1     1     1     0     1     0     1   -6.0       1     0.0\n",
      "50     0     1     1     1     1     1     1     1   -6.0       2     0.0\n",
      "51     1     0     0     1     1     0     1     0   -6.0       1     0.0\n",
      "52     0     0     1     0     0     0     0     0   -6.0       1     0.0\n",
      "53     0     0     1     0     1     0     1     0   -6.0       2     0.0\n",
      "54     0     0     1     0     1     1     1     1   -6.0       1     0.0\n",
      "56     0     1     0     1     0     1     0     1    0.0       1     0.0\n",
      "57     1     1     1     1     1     0     1     0    0.0       1     0.0\n",
      "58     1     0     0     0     1     1     1     0   14.0       1     0.0\n",
      "['BINARY', 60 rows, 500 samples, 8 variables]\n"
     ]
    }
   ],
   "source": [
    "from dwave.system import DWaveSampler , EmbeddingComposite\n",
    "\n",
    "sampler_auto = EmbeddingComposite ( DWaveSampler () )\n",
    "\n",
    "#these are the diagonal terms of the matrix\n",
    "linear = { ( ' q11 ' , ' q11 ' ) : 26 , ( ' q12 ' , ' q12 ' ) : 72 , ( ' q13 ' , ' q13 ' ) : -1*6 , ( ' q14 ' , ' q14 ' ) : 8 , ( ' q21 ' , ' q21 ' ) : -1*13 , ( ' q22 ' , ' q22 ' ) : -1* 16 , ( ' q23 ' , ' q23 ' ) : 23 ,\n",
    "( ' q24 ' , ' q24 ' ) : 56 }\n",
    "\n",
    "# these are the non diagonal terms of the matrix\n",
    "quadratic = { ( ' q11 ' , ' q12 ' ) : 40 , ( ' q11 ' , ' q13 ' ) : -1* 20 , ( ' q12 ' , ' q13 ' ) : -40 , ( ' q11 ' , ' q14 ' ) : -40 ,( ' q12 ' , ' q14 ' ) : -80 , ( ' q13 ' , ' q14 ' ) : 40 , (' q11 ' , ' q21 ' ) : 2 , ( ' q12 ' , ' q21 ' ) : 4 , ( ' q13 ' , ' q21 ' ): -2 ,  ( ' q14 ' , ' q21 ' ) : -4 , ( ' q11 ' , ' q22 ' ) : 4 , ( ' q12 ' , ' q22 ' ) : 8 , ( ' q13 ' , ' q22 ' ) : -4 , ( ' q14 ' , ' q22 ' ) : -8 , ( ' q21 ' , ' q22 ' ) : 20 ,\n",
    "( ' q11 ' , ' q23 ' ) : -2 , ( ' q12 ' , ' q23 ' ) : -4 , ( ' q13 ' , ' q23 ' ) : 2 , ( ' q14 ' , ' q23 ' ) : 4 , ( ' q21 ' , ' q23 ' ) : -10 , ( ' q22 ' , ' q23 ' ) : -20 , ( ' q11 ' , ' q24 ' ) : -4 , ( ' q12 ' , ' q24 ' ) : -8 , ( ' q13 ' , ' q24 ' ):4 , ( ' q14 ' , ' q24 ' ) : 8 ,\n",
    "( ' q21 ' , ' q24 ' ) : -20 , ( ' q22 ' , ' q24 ' ) : -40 , ( ' q23 ' , ' q24 ' ) : 20 }\n",
    "\n",
    "Q = dict ( linear )\n",
    "Q. update ( quadratic)\n",
    "\n",
    "# Minor Embed and sample 10000  D−Wave system\n",
    "sampleset = sampler_auto. sample_qubo(Q, num_reads =500)\n",
    "print(sampleset)"
   ]
  },
  {
   "cell_type": "code",
   "execution_count": 31,
   "metadata": {},
   "outputs": [
    {
     "data": {
      "text/plain": [
       "[0, 1, 1, 1, 0, 1, 0, 0]"
      ]
     },
     "execution_count": 31,
     "metadata": {},
     "output_type": "execute_result"
    }
   ],
   "source": [
    "result =  list(sampleset.first.sample.values())\n",
    "result"
   ]
  },
  {
   "cell_type": "code",
   "execution_count": 25,
   "metadata": {},
   "outputs": [
    {
     "data": {
      "text/plain": [
       "SampleSet(rec.array([([0, 1, 1, 1, 0, 1, 0, 0], -26., 42, 0.),\n",
       "           ([0, 0, 1, 0, 1, 1, 1, 0], -26., 50, 0.),\n",
       "           ([0, 0, 1, 0, 0, 1, 0, 0], -26., 60, 0.),\n",
       "           ([1, 0, 0, 1, 0, 1, 0, 0], -26., 23, 0.),\n",
       "           ([1, 0, 0, 1, 1, 1, 1, 0], -26., 25, 0.),\n",
       "           ([0, 1, 1, 1, 1, 1, 1, 0], -26., 28, 0.),\n",
       "           ([1, 0, 0, 1, 1, 0, 0, 0], -21.,  7, 0.),\n",
       "           ([0, 1, 1, 1, 1, 0, 0, 0], -21., 17, 0.),\n",
       "           ([0, 0, 1, 0, 1, 0, 0, 0], -21., 22, 0.),\n",
       "           ([0, 1, 1, 1, 1, 1, 0, 1], -21.,  4, 0.),\n",
       "           ([1, 0, 0, 1, 0, 1, 1, 0], -21.,  4, 0.),\n",
       "           ([0, 1, 1, 1, 1, 1, 0, 0], -21., 10, 0.),\n",
       "           ([1, 0, 0, 1, 1, 1, 0, 1], -21.,  6, 0.),\n",
       "           ([0, 0, 1, 0, 1, 1, 0, 1], -21., 14, 0.),\n",
       "           ([0, 0, 1, 0, 1, 1, 0, 0], -21., 15, 0.),\n",
       "           ([1, 0, 0, 1, 1, 1, 0, 0], -21., 11, 0.),\n",
       "           ([0, 1, 1, 1, 0, 1, 1, 0], -21., 12, 0.),\n",
       "           ([0, 0, 1, 0, 0, 1, 1, 0], -21., 17, 0.),\n",
       "           ([0, 1, 0, 1, 0, 1, 0, 0], -16.,  8, 0.),\n",
       "           ([1, 0, 1, 1, 0, 1, 0, 0], -16.,  3, 0.),\n",
       "           ([0, 0, 0, 0, 1, 1, 1, 0], -16., 15, 0.),\n",
       "           ([1, 0, 1, 0, 1, 1, 1, 0], -16.,  3, 0.),\n",
       "           ([0, 0, 0, 1, 1, 1, 1, 0], -16.,  5, 0.),\n",
       "           ([0, 1, 0, 1, 1, 1, 1, 0], -16.,  7, 0.),\n",
       "           ([1, 0, 1, 0, 0, 1, 0, 0], -16.,  4, 0.),\n",
       "           ([1, 1, 1, 1, 0, 1, 0, 0], -16.,  2, 0.),\n",
       "           ([0, 0, 0, 1, 0, 1, 0, 0], -16.,  5, 0.),\n",
       "           ([0, 0, 0, 0, 0, 1, 0, 0], -16.,  8, 0.),\n",
       "           ([1, 0, 1, 1, 1, 1, 1, 0], -16.,  5, 0.),\n",
       "           ([1, 1, 1, 1, 1, 1, 1, 0], -16.,  4, 0.),\n",
       "           ([0, 1, 0, 1, 1, 1, 0, 1], -13.,  2, 0.),\n",
       "           ([1, 0, 1, 1, 1, 1, 0, 0], -13.,  1, 0.),\n",
       "           ([0, 0, 0, 0, 1, 1, 0, 1], -13.,  4, 0.),\n",
       "           ([0, 1, 0, 1, 0, 1, 1, 0], -13.,  4, 0.),\n",
       "           ([1, 0, 1, 0, 1, 1, 0, 1], -13.,  1, 0.),\n",
       "           ([0, 1, 0, 1, 1, 0, 0, 0], -13.,  5, 0.),\n",
       "           ([0, 0, 0, 1, 1, 1, 0, 0], -13.,  8, 0.),\n",
       "           ([0, 0, 0, 0, 1, 0, 0, 0], -13.,  1, 0.),\n",
       "           ([1, 0, 1, 0, 1, 0, 0, 0], -13.,  2, 0.),\n",
       "           ([1, 1, 1, 1, 0, 1, 1, 0], -13.,  2, 0.),\n",
       "           ([1, 1, 1, 1, 1, 0, 0, 0], -13.,  3, 0.),\n",
       "           ([0, 0, 0, 0, 0, 1, 1, 0], -13.,  6, 0.),\n",
       "           ([0, 0, 0, 1, 1, 0, 0, 0],  -9.,  2, 0.),\n",
       "           ([0, 1, 0, 1, 1, 1, 0, 0],  -9.,  3, 0.),\n",
       "           ([0, 0, 0, 1, 1, 1, 0, 1],  -9.,  1, 0.),\n",
       "           ([0, 0, 0, 1, 0, 1, 1, 0],  -9.,  3, 0.),\n",
       "           ([0, 0, 0, 0, 1, 1, 0, 0],  -9.,  1, 0.),\n",
       "           ([1, 0, 1, 1, 1, 0, 0, 0],  -9.,  1, 0.),\n",
       "           ([0, 1, 1, 1, 0, 0, 0, 0],  -6.,  3, 0.),\n",
       "           ([0, 1, 1, 1, 0, 1, 0, 1],  -6.,  1, 0.),\n",
       "           ([0, 1, 1, 1, 1, 1, 1, 1],  -6.,  2, 0.),\n",
       "           ([1, 0, 0, 1, 1, 0, 1, 0],  -6.,  1, 0.),\n",
       "           ([0, 0, 1, 0, 0, 0, 0, 0],  -6.,  1, 0.),\n",
       "           ([0, 0, 1, 0, 1, 0, 1, 0],  -6.,  2, 0.),\n",
       "           ([0, 0, 1, 0, 1, 1, 1, 1],  -6.,  1, 0.),\n",
       "           ([0, 1, 0, 1, 0, 1, 0, 1],   0.,  1, 0.),\n",
       "           ([1, 1, 1, 1, 1, 0, 1, 0],   0.,  1, 0.),\n",
       "           ([1, 0, 0, 0, 1, 1, 1, 0],  14.,  1, 0.)],\n",
       "          dtype=[('sample', 'i1', (8,)), ('energy', '<f8'), ('num_occurrences', '<i8'), ('chain_break_fraction', '<f8')]), Variables([' q11 ', ' q12 ', ' q13 ', ' q14 ', ' q21 ', ' q22 ', ' q23 ', ' q24 ']), {'timing': {'qpu_sampling_time': 52360.0, 'qpu_anneal_time_per_sample': 20.0, 'qpu_readout_time_per_sample': 64.18, 'qpu_access_time': 68116.77, 'qpu_access_overhead_time': 998.23, 'qpu_programming_time': 15756.77, 'qpu_delay_time_per_sample': 20.54, 'post_processing_overhead_time': 1943.0, 'total_post_processing_time': 1943.0}, 'problem_id': '3cb602f1-12c2-45ab-af94-ee507067bd60'}, 'BINARY')"
      ]
     },
     "execution_count": 25,
     "metadata": {},
     "output_type": "execute_result"
    }
   ],
   "source": [
    "resulttt = sampleset.aggregate()\n",
    "resulttt"
   ]
  },
  {
   "cell_type": "code",
   "execution_count": 23,
   "metadata": {},
   "outputs": [
    {
     "ename": "UFuncTypeError",
     "evalue": "ufunc 'maximum' did not contain a loop with signature matching types (dtype((numpy.record, [('sample', 'i1', (8,)), ('energy', '<f8'), ('num_occurrences', '<i8'), ('chain_break_fraction', '<f8')])), dtype((numpy.record, [('sample', 'i1', (8,)), ('energy', '<f8'), ('num_occurrences', '<i8'), ('chain_break_fraction', '<f8')]))) -> None",
     "output_type": "error",
     "traceback": [
      "\u001b[0;31m---------------------------------------------------------------------------\u001b[0m",
      "\u001b[0;31mUFuncTypeError\u001b[0m                            Traceback (most recent call last)",
      "Cell \u001b[0;32mIn[23], line 1\u001b[0m\n\u001b[0;32m----> 1\u001b[0m \u001b[43msampleset\u001b[49m\u001b[38;5;241;43m.\u001b[39;49m\u001b[43mrecord\u001b[49m\u001b[38;5;241;43m.\u001b[39;49m\u001b[43mmax\u001b[49m\u001b[43m(\u001b[49m\u001b[43m)\u001b[49m\n",
      "File \u001b[0;32m~/anaconda3/envs/dwave/lib/python3.10/site-packages/numpy/core/_methods.py:40\u001b[0m, in \u001b[0;36m_amax\u001b[0;34m(a, axis, out, keepdims, initial, where)\u001b[0m\n\u001b[1;32m     38\u001b[0m \u001b[39mdef\u001b[39;00m \u001b[39m_amax\u001b[39m(a, axis\u001b[39m=\u001b[39m\u001b[39mNone\u001b[39;00m, out\u001b[39m=\u001b[39m\u001b[39mNone\u001b[39;00m, keepdims\u001b[39m=\u001b[39m\u001b[39mFalse\u001b[39;00m,\n\u001b[1;32m     39\u001b[0m           initial\u001b[39m=\u001b[39m_NoValue, where\u001b[39m=\u001b[39m\u001b[39mTrue\u001b[39;00m):\n\u001b[0;32m---> 40\u001b[0m     \u001b[39mreturn\u001b[39;00m umr_maximum(a, axis, \u001b[39mNone\u001b[39;49;00m, out, keepdims, initial, where)\n",
      "\u001b[0;31mUFuncTypeError\u001b[0m: ufunc 'maximum' did not contain a loop with signature matching types (dtype((numpy.record, [('sample', 'i1', (8,)), ('energy', '<f8'), ('num_occurrences', '<i8'), ('chain_break_fraction', '<f8')])), dtype((numpy.record, [('sample', 'i1', (8,)), ('energy', '<f8'), ('num_occurrences', '<i8'), ('chain_break_fraction', '<f8')]))) -> None"
     ]
    }
   ],
   "source": [
    "sampleset.record.max()"
   ]
  },
  {
   "cell_type": "code",
   "execution_count": 32,
   "metadata": {},
   "outputs": [
    {
     "name": "stdout",
     "output_type": "stream",
     "text": [
      "[238.02 238.   237.  ]\n"
     ]
    }
   ],
   "source": [
    "import numpy as np\n",
    "ar = np.array([(238.03, 238.0, 237.0),\n",
    "               (238.02, 238.0, 237.01),\n",
    "               (238.05, 238.01, 237.0)], \n",
    "              dtype=[('A', 'f'), ('B', 'f'), ('C', 'f')])\n",
    "ar_view = ar.view((ar.dtype[0], len(ar.dtype.names)))\n",
    "print(ar_view.min(axis=0))"
   ]
  },
  {
   "cell_type": "code",
   "execution_count": 33,
   "metadata": {},
   "outputs": [
    {
     "data": {
      "text/plain": [
       "116"
      ]
     },
     "execution_count": 33,
     "metadata": {},
     "output_type": "execute_result"
    }
   ],
   "source": [
    "result_bitstring = ''.join(str(x) for x in result)\n",
    "\n",
    "resulting_number = int(result_bitstring, 2)\n",
    "resulting_number"
   ]
  },
  {
   "cell_type": "code",
   "execution_count": 34,
   "metadata": {},
   "outputs": [
    {
     "data": {
      "text/plain": [
       "'01110100'"
      ]
     },
     "execution_count": 34,
     "metadata": {},
     "output_type": "execute_result"
    }
   ],
   "source": [
    "result_bitstring"
   ]
  },
  {
   "cell_type": "code",
   "execution_count": null,
   "metadata": {},
   "outputs": [],
   "source": []
  }
 ],
 "metadata": {
  "kernelspec": {
   "display_name": "Python 3.10.8 ('dwave')",
   "language": "python",
   "name": "python3"
  },
  "language_info": {
   "codemirror_mode": {
    "name": "ipython",
    "version": 3
   },
   "file_extension": ".py",
   "mimetype": "text/x-python",
   "name": "python",
   "nbconvert_exporter": "python",
   "pygments_lexer": "ipython3",
   "version": "3.10.8"
  },
  "orig_nbformat": 4,
  "vscode": {
   "interpreter": {
    "hash": "df4caba92ec6f7f74fb7c45d22f03202a5c8642dd30bfe4a37b0c5a17b267f1f"
   }
  }
 },
 "nbformat": 4,
 "nbformat_minor": 2
}
